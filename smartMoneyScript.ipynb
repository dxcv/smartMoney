{
 "cells": [
  {
   "cell_type": "code",
   "execution_count": 1,
   "metadata": {},
   "outputs": [],
   "source": [
    "import os  \n",
    "from imp import reload\n",
    "import numpy as np\n",
    "import pandas as pd\n",
    "import matplotlib.pyplot as plt\n",
    "import pylab\n",
    "from scipy import stats\n",
    "%matplotlib inline"
   ]
  },
  {
   "cell_type": "markdown",
   "metadata": {},
   "source": [
    "导入收益率和因子数据"
   ]
  },
  {
   "cell_type": "code",
   "execution_count": 2,
   "metadata": {},
   "outputs": [],
   "source": [
    "stockRetDF= pd.read_excel('QandReturns.xlsx', sheet_name=u'收益率')\n",
    "Qdf=pd.read_excel('./smartMoney/QandReturns.xlsx', sheet_name='Q')\n",
    "#Qdf=pd.read_excel('QandReturns.xlsx', sheet_name='newQ')"
   ]
  },
  {
   "cell_type": "code",
   "execution_count": 3,
   "metadata": {},
   "outputs": [],
   "source": [
    "stockRetDF=stockRetDF/100\n",
    "Qdf[(Qdf==-2)|(Qdf==-1 )]=np.nan\n",
    "date=stockRetDF.index;code=stockRetDF.columns\n",
    "stockRet=stockRetDF.as_matrix();Q=Qdf.as_matrix()"
   ]
  },
  {
   "cell_type": "code",
   "execution_count": 4,
   "metadata": {},
   "outputs": [],
   "source": [
    "groupNum = 5\n",
    "rankIC = []\n",
    "for i in range(Q.shape[0]-1):\n",
    "    X=Q[i,]    \n",
    "    Y=stockRet[i+1,]\n",
    "    nanIdx=np.union1d(np.where(np.isnan(Y)==True)[0],np.where(np.isnan(X)==True)[0])\n",
    "    rankIC.append(stats.spearmanr(np.delete(X,nanIdx),np.delete(Y,nanIdx))[0])"
   ]
  },
  {
   "cell_type": "code",
   "execution_count": 5,
   "metadata": {},
   "outputs": [],
   "source": [
    "factorOriginal=Q\n",
    "import singleFactor_RegValidity"
   ]
  },
  {
   "cell_type": "code",
   "execution_count": 6,
   "metadata": {},
   "outputs": [
    {
     "name": "stderr",
     "output_type": "stream",
     "text": [
      "E:\\MultiFactor\\mfm\\factor_Standardized.py:18: RuntimeWarning: invalid value encountered in greater\n",
      "  thisSlice[thisSlice > upperBound[i]] = upperBound[i]\n",
      "E:\\MultiFactor\\mfm\\factor_Standardized.py:19: RuntimeWarning: invalid value encountered in less\n",
      "  thisSlice[thisSlice < lowerBound[i]] = lowerBound[i]\n",
      "E:\\MultiFactor\\mfm\\singleFactor_RegValidity.py:19: FutureWarning: `rcond` parameter will change to the default of machine precision times ``max(M, N)`` where M and N are the input matrix dimensions.\n",
      "To use the future default and silence this warning we advise to pass `rcond=None`, to keep using the old, explicitly pass `rcond=-1`.\n",
      "  regCoef[i]=np.linalg.lstsq(X,Y)[0][0]\n"
     ]
    }
   ],
   "source": [
    "[factorTvalueQn,factorRegValidityQn]=singleFactor_RegValidity.fun(stockRet,factorOriginal)"
   ]
  },
  {
   "cell_type": "code",
   "execution_count": null,
   "metadata": {},
   "outputs": [],
   "source": [
    "groupPeriod=1;regressPeriod=1\n",
    "dateNumber=range(stockRet.shape[0])\n",
    "import singleFactor_GroupBacktest;"
   ]
  },
  {
   "cell_type": "code",
   "execution_count": null,
   "metadata": {},
   "outputs": [],
   "source": [
    "idx2013=np.where(date.year==2013);idx2014=np.where(date.year==2014)\n",
    "idx2015=np.where(date.year==2015);idx2016=np.where(date.year==2016)\n",
    "idx2017=np.where(date.year==2017)"
   ]
  },
  {
   "cell_type": "code",
   "execution_count": null,
   "metadata": {},
   "outputs": [],
   "source": [
    "mvDF=pd.read_excel('QandReturns.xlsx', sheetname=u'市值')\n",
    "industryDF=pd.read_excel('QandReturns.xlsx', sheetname=u'行业')\n",
    "volatilityDF=pd.read_excel('volatility.xlsx', sheetname='Sheet1')/100\n",
    "mvDF[mvDF==0]=np.nan\n",
    "volatilityDF[volatilityDF==0]=np.nan\n",
    "mv=mvDF.as_matrix()\n",
    "volatility=volatilityDF.as_matrix()"
   ]
  },
  {
   "cell_type": "code",
   "execution_count": null,
   "metadata": {},
   "outputs": [],
   "source": [
    "def group(factorX,factorY,groupNum):#Q是factorX,mv或动量是factorY    \n",
    "    factorGroup=np.zeros([factorY.shape[0],groupNum])\n",
    "    for i in range(factorY.shape[0]):\n",
    "        factorSort=np.sort(factorX[i,])#np.sort 默认升序排列，nan在最后\n",
    "        factorSortIdx=np.argsort(factorX[i,])                \n",
    "        firstNanIdx=np.where(np.isnan(factorSort)==True)[0][0]\n",
    "        factorSortIdx=factorSortIdx[:firstNanIdx]\n",
    "        inGroupNum=int(round(len(factorSortIdx)/groupNum))#每组股票数\n",
    "        for j in range(groupNum-1):\n",
    "            factorGroup[i,j]=np.nanmean(factorY[i,factorSortIdx[inGroupNum*j:inGroupNum*(j+1)]])\n",
    "        factorGroup[i,groupNum-1]=np.nanmean(factorY[i,factorSortIdx[inGroupNum*(groupNum-1):]])    \n",
    "#    for j in range(groupNum):\n",
    "#        pylab.plot_date(date,mvGroup[:,j],linestyle='-')\n",
    "#    label = [u'第1组',u'第2组',u'第3组',u'第4组',u'第5组']\n",
    "#    plt.legend(label)   \n",
    "    return factorGroup"
   ]
  },
  {
   "cell_type": "code",
   "execution_count": null,
   "metadata": {},
   "outputs": [],
   "source": [
    "mvGroup=group(Q,mv,groupNum)"
   ]
  },
  {
   "cell_type": "code",
   "execution_count": null,
   "metadata": {},
   "outputs": [],
   "source": [
    "[backTestResult,nav]=singleFactor_GroupBacktest.fun(np.squeeze(stockRet),np.squeeze(factorOriginal),date,groupPeriod=groupPeriod,regressPeriod=regressPeriod)"
   ]
  },
  {
   "cell_type": "code",
   "execution_count": null,
   "metadata": {},
   "outputs": [],
   "source": [
    "pd.DataFrame(backTestResult).to_excel('btQnew.xlsx')\n",
    "pd.DataFrame(nav).to_excel('navQnew.xlsx')"
   ]
  },
  {
   "cell_type": "code",
   "execution_count": null,
   "metadata": {},
   "outputs": [],
   "source": [
    "[backTestResult2013,nav13]=singleFactor_GroupBacktest.fun(np.squeeze(stockRet[idx2013,]),np.squeeze(factorOriginal[idx2013,]),date[idx2013],groupPeriod=groupPeriod,regressPeriod=regressPeriod)\n",
    "[backTestResult2014,nav14]=singleFactor_GroupBacktest.fun(np.squeeze(stockRet[idx2014,]),np.squeeze(factorOriginal[idx2014,]),date[idx2014],groupPeriod=groupPeriod,regressPeriod=regressPeriod)\n",
    "[backTestResult2015,nav15]=singleFactor_GroupBacktest.fun(np.squeeze(stockRet[idx2015,]),np.squeeze(factorOriginal[idx2015,]),date[idx2015],groupPeriod=groupPeriod,regressPeriod=regressPeriod)\n",
    "[backTestResult2016,nav16]=singleFactor_GroupBacktest.fun(np.squeeze(stockRet[idx2016,]),np.squeeze(factorOriginal[idx2016,]),date[idx2016],groupPeriod=groupPeriod,regressPeriod=regressPeriod)\n",
    "[backTestResult2017,nav17]=singleFactor_GroupBacktest.fun(np.squeeze(stockRet[idx2017,]),np.squeeze(factorOriginal[idx2017,]),date[idx2017],groupPeriod=groupPeriod,regressPeriod=regressPeriod)"
   ]
  },
  {
   "cell_type": "code",
   "execution_count": null,
   "metadata": {},
   "outputs": [],
   "source": [
    "mvDF=pd.read_excel('QandReturns.xlsx', sheet_name=u'市值')\n",
    "industryDF=pd.read_excel('QandReturns.xlsx', sheet_name=u'行业')\n",
    "#volatilityDF=pd.read_excel('volatility.xlsx', sheetname='Sheet1')/100\n",
    "mvDF[mvDF==0]=np.nan\n",
    "#volatilityDF[volatilityDF==0]=np.nan\n",
    "mv=mvDF.as_matrix()\n",
    "#volatility=volatilityDF.as_matrix()"
   ]
  },
  {
   "cell_type": "code",
   "execution_count": null,
   "metadata": {},
   "outputs": [],
   "source": [
    "Q_mv_cor=np.zeros(len(date))\n",
    "for i in range(len(date)):    \n",
    "    nanIdx=np.union1d(np.where(np.isnan(Q[i,])==True)[0],np.where(np.isnan(mv[i,])==True)[0])    \n",
    "    Q_mv_cor[i]=np.corrcoef(np.delete(Q[i,],nanIdx),np.delete(mv[i,],nanIdx))[0,1]"
   ]
  },
  {
   "cell_type": "code",
   "execution_count": null,
   "metadata": {},
   "outputs": [],
   "source": [
    "Q_mv_cor.shape"
   ]
  },
  {
   "cell_type": "code",
   "execution_count": null,
   "metadata": {},
   "outputs": [],
   "source": [
    "industryDummyDict={}\n",
    "industryNum=27\n",
    "for iIndustryDummyDict in range(1,industryNum):\n",
    "    industryDummyDict[iIndustryDummyDict]=np.zeros(len(code))\n",
    "    for iCode in range(len(code)):\n",
    "        if industryDF[u'行业编号'][iCode]==iIndustryDummyDict:\n",
    "            industryDummyDict[iIndustryDummyDict][iCode]=1"
   ]
  },
  {
   "cell_type": "code",
   "execution_count": null,
   "metadata": {},
   "outputs": [],
   "source": [
    "eps=np.zeros(Q.shape)\n",
    "R2=np.zeros(Q.shape[0])\n",
    "for i in range(Q.shape[0]):\n",
    "    Y=Q[i,:]\n",
    "    X=np.c_[np.log(mv[i,:]),stockRet[i-1,:]]    \n",
    "    for iIndustryDummyDict in range(1,industryNum):\n",
    "        X=np.c_[X,industryDummyDict[iIndustryDummyDict]]    \n",
    "    nanIdx_Y=np.where(np.isnan(Y)==True)\n",
    "    nanIdx_X=np.where((np.isnan(X[:,0])==True)|(np.isnan(X[:,1])==True))    \n",
    "    nanIdx=np.union1d(nanIdx_X[0],nanIdx_Y[0])\n",
    "    #把nan值去掉后再代入np.linalg.lstsq  \n",
    "    YdelNan=np.delete(Y, nanIdx)\n",
    "    XdelNan=np.delete(X, nanIdx, axis=0)  \n",
    "    l=np.linalg.lstsq(XdelNan,YdelNan)  #一元无截距回归报错\n",
    "    eps[i,:]=Y-np.dot(X,l[0])\n",
    "    R2[i]=1-np.nansum(eps[i,:]**2)/sum((YdelNan-np.mean(YdelNan))**2)"
   ]
  },
  {
   "cell_type": "code",
   "execution_count": null,
   "metadata": {},
   "outputs": [],
   "source": [
    "eps.shape"
   ]
  },
  {
   "cell_type": "code",
   "execution_count": null,
   "metadata": {},
   "outputs": [],
   "source": [
    "factorOriginal = eps"
   ]
  },
  {
   "cell_type": "code",
   "execution_count": null,
   "metadata": {},
   "outputs": [],
   "source": [
    "[factorTvalueTT,factorRegValidityTT]=singleFactor_RegValidity.fun(stockRet,factorOriginal)"
   ]
  },
  {
   "cell_type": "code",
   "execution_count": null,
   "metadata": {},
   "outputs": [],
   "source": [
    "print(factorTvalue)\n",
    "print(factorTvalueTT)"
   ]
  },
  {
   "cell_type": "code",
   "execution_count": null,
   "metadata": {},
   "outputs": [],
   "source": [
    "[backTestResultTT,navTT]=singleFactor_GroupBacktest.fun(stockRet,factorOriginal,date,groupPeriod=groupPeriod,regressPeriod=regressPeriod)"
   ]
  },
  {
   "cell_type": "code",
   "execution_count": null,
   "metadata": {},
   "outputs": [],
   "source": [
    "pd.DataFrame(backTestResultTT).to_excel('btTT.xlsx')\n",
    "pd.DataFrame(navTT).to_excel('navTT.xlsx')"
   ]
  },
  {
   "cell_type": "code",
   "execution_count": null,
   "metadata": {},
   "outputs": [],
   "source": [
    "NAVdf= pd.read_excel('rankICaverageQ.xlsx', sheetname='Sheet1')\n",
    "date=NAVdf[u'日期']\n"
   ]
  },
  {
   "cell_type": "code",
   "execution_count": null,
   "metadata": {},
   "outputs": [],
   "source": [
    "NAV_Q=np.array(NAVdf['NAV_Q']);NAV_wind=np.array(NAVdf['NAV_wind'])\n",
    "freq=12\n",
    "annualizedRetQ=(NAV_Q[-1]/NAV_Q[0])**(freq/len(date))-1;\n",
    "mddQ=maxDrawDown.fun(NAV_Q);\n",
    "sharpeQ=np.mean(np.diff(NAV_Q)/NAV_Q[0:-1])/np.std(np.diff(NAV_Q)/NAV_Q[0:-1])*math.sqrt(freq); \n",
    "annualizedRetWind=(NAV_wind[-1]/NAV_wind[0])**(freq/len(date))-1;\n",
    "mddWind=maxDrawDown.fun(NAV_wind);\n",
    "sharpeWind=np.mean(np.diff(NAV_wind)/NAV_wind[0:-1])/np.std(np.diff(NAV_wind)/NAV_wind[0:-1])*math.sqrt(freq); "
   ]
  },
  {
   "cell_type": "code",
   "execution_count": null,
   "metadata": {},
   "outputs": [],
   "source": [
    "import maxDrawDown\n",
    "import math"
   ]
  },
  {
   "cell_type": "code",
   "execution_count": null,
   "metadata": {},
   "outputs": [],
   "source": [
    "annualizedRetQ"
   ]
  },
  {
   "cell_type": "code",
   "execution_count": null,
   "metadata": {},
   "outputs": [],
   "source": [
    "mddQ"
   ]
  },
  {
   "cell_type": "code",
   "execution_count": null,
   "metadata": {},
   "outputs": [],
   "source": [
    "print(factorTvalue)\n",
    "print(factorTvalueQn)\n",
    "print(factorTvalueTT)"
   ]
  },
  {
   "cell_type": "code",
   "execution_count": null,
   "metadata": {},
   "outputs": [],
   "source": []
  }
 ],
 "metadata": {
  "kernelspec": {
   "display_name": "Python 3",
   "language": "python",
   "name": "python3"
  },
  "language_info": {
   "codemirror_mode": {
    "name": "ipython",
    "version": 3
   },
   "file_extension": ".py",
   "mimetype": "text/x-python",
   "name": "python",
   "nbconvert_exporter": "python",
   "pygments_lexer": "ipython3",
   "version": "3.6.4"
  }
 },
 "nbformat": 4,
 "nbformat_minor": 2
}
